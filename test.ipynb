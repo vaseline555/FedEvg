{
 "cells": [
  {
   "cell_type": "code",
   "execution_count": 1,
   "metadata": {},
   "outputs": [],
   "source": [
    "import math\n",
    "import torch\n",
    "\n",
    "\n",
    "class Lambda(torch.nn.Module):\n",
    "    def __init__(self, lam):\n",
    "        super(Lambda, self).__init__()\n",
    "        self.lam = lam\n",
    "\n",
    "    def forward(self, x):\n",
    "        return self.lam(x)\n",
    "\n",
    "class Generator(torch.nn.Module):\n",
    "    def __init__(self, resize, in_channels, hidden_size):\n",
    "        super(Generator, self).__init__()\n",
    "        self.features = torch.nn.Sequential(\n",
    "            torch.nn.Linear(100, hidden_size * 8),\n",
    "            Lambda(lambda x: x[:, :, None, None]),\n",
    "            torch.nn.ConvTranspose2d(hidden_size * 8, hidden_size * 4, 4, 1, 0, bias=False),\n",
    "            torch.nn.BatchNorm2d(hidden_size * 4),\n",
    "            torch.nn.ReLU(True),\n",
    "            torch.nn.ConvTranspose2d(hidden_size * 4, hidden_size * 2, 4, 2, 1, bias=False),\n",
    "            torch.nn.BatchNorm2d(hidden_size * 2),\n",
    "            torch.nn.ReLU(True),\n",
    "            torch.nn.ConvTranspose2d(hidden_size * 2, hidden_size, 4, 2, 1, bias=False),\n",
    "            torch.nn.BatchNorm2d(hidden_size),\n",
    "            torch.nn.ReLU(True),\n",
    "            torch.nn.ConvTranspose2d(hidden_size, in_channels, 4, 2, 1, bias=False),\n",
    "            torch.nn.Tanh(),\n",
    "        )\n",
    "\n",
    "    def forward(self, x):\n",
    "        x = torch.randn(x.size(0), 100).to(x.device)\n",
    "        x = self.features(x)\n",
    "        return x\n",
    "\n",
    "\n",
    "class Discriminator(torch.nn.Module):\n",
    "    def __init__(self, resize, in_channels, hidden_size, num_classes):\n",
    "        super(Discriminator, self).__init__()\n",
    "        proj_size = resize**2\n",
    "        self.features = torch.nn.Sequential(\n",
    "            torch.nn.Conv2d(in_channels, hidden_size, 3, 2, 1, bias=False),\n",
    "            torch.nn.LeakyReLU(0.2, inplace=True),\n",
    "            torch.nn.Dropout(0.5, inplace=False),\n",
    "            torch.nn.Conv2d(hidden_size, hidden_size * 2, 3, 2, 1, bias=False),\n",
    "            torch.nn.BatchNorm2d(hidden_size * 2),\n",
    "            torch.nn.LeakyReLU(0.2, inplace=True),\n",
    "            torch.nn.Dropout(0.5, inplace=False),\n",
    "            torch.nn.Conv2d(hidden_size * 2, hidden_size * 4, 3, 2, 1, bias=False),\n",
    "            torch.nn.BatchNorm2d(hidden_size * 4),\n",
    "            torch.nn.LeakyReLU(0.2, inplace=True),\n",
    "            torch.nn.Dropout(0.5, inplace=False),\n",
    "            torch.nn.Flatten(),\n",
    "            torch.nn.Linear(proj_size * hidden_size * 4, 1 + num_classes)\n",
    "        )\n",
    "\n",
    "    def forward(self, x):\n",
    "        x = self.features(x)\n",
    "        gen_disc, cls_disc = x[:, :1], x[:, 1:]\n",
    "        return torch.sigmoid(gen_disc), torch.softmax(cls_disc, dim=-1)\n",
    "\n",
    "class ACGAN(torch.nn.Module):\n",
    "    def __init__(self, resize, in_channels, hidden_size, num_classes):\n",
    "        super(ACGAN, self).__init__()\n",
    "        self.generator = Generator(resize, in_channels, hidden_size)\n",
    "        self.discriminator = Discriminator(resize, in_channels, hidden_size, num_classes)\n",
    "\n",
    "    def forward(self, x, for_D=True, return_fake=False):\n",
    "        x_fake = self.generator(x)\n",
    "        if for_D:\n",
    "            disc_res, clf_res = self.discriminator(\n",
    "                torch.cat([x_fake.detach(), x], dim=0)\n",
    "            )\n",
    "            disc_fake, disc_real = disc_res[:x_fake.size(0)], disc_res[x_fake.size(0):]\n",
    "            clf_fake, clf_real = clf_res[:x_fake.size(0)], clf_res[x_fake.size(0):]\n",
    "            return disc_fake, disc_real, clf_fake, clf_real, x_fake.detach() if return_fake else None\n",
    "        else:\n",
    "            disc_fake, clf_fake = self.discriminator(x_fake)\n",
    "            return disc_fake, clf_fake, x_fake.detach() if return_fake else None"
   ]
  },
  {
   "cell_type": "code",
   "execution_count": 6,
   "metadata": {},
   "outputs": [],
   "source": [
    "Discriminator(32, 3, 16, 10)"
   ]
  },
  {
   "cell_type": "code",
   "execution_count": 2,
   "metadata": {},
   "outputs": [
    {
     "data": {
      "text/plain": [
       "True"
      ]
     },
     "execution_count": 2,
     "metadata": {},
     "output_type": "execute_result"
    }
   ],
   "source": [
    "torch.cuda.is_available()"
   ]
  },
  {
   "cell_type": "code",
   "execution_count": 11,
   "metadata": {},
   "outputs": [],
   "source": [
    "import torch\n",
    "from pytorch_fid.inception import InceptionV3"
   ]
  },
  {
   "cell_type": "code",
   "execution_count": 17,
   "metadata": {},
   "outputs": [],
   "source": [
    "from pytorch_fid.fid_score import calculate_frechet_distance, calculate_activation_statistics"
   ]
  },
  {
   "cell_type": "code",
   "execution_count": null,
   "metadata": {},
   "outputs": [],
   "source": []
  }
 ],
 "metadata": {
  "kernelspec": {
   "display_name": "Python 3",
   "language": "python",
   "name": "python3"
  },
  "language_info": {
   "codemirror_mode": {
    "name": "ipython",
    "version": 3
   },
   "file_extension": ".py",
   "mimetype": "text/x-python",
   "name": "python",
   "nbconvert_exporter": "python",
   "pygments_lexer": "ipython3",
   "version": "3.8.10"
  },
  "orig_nbformat": 4,
  "vscode": {
   "interpreter": {
    "hash": "767d51c1340bd893661ea55ea3124f6de3c7a262a8b4abca0554b478b1e2ff90"
   }
  }
 },
 "nbformat": 4,
 "nbformat_minor": 2
}
